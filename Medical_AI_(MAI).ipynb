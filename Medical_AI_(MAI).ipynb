{
  "nbformat": 4,
  "nbformat_minor": 0,
  "metadata": {
    "colab": {
      "provenance": [],
      "machine_shape": "hm"
    },
    "kernelspec": {
      "name": "python3",
      "display_name": "Python 3"
    },
    "language_info": {
      "name": "python"
    }
  },
  "cells": [
    {
      "cell_type": "code",
      "source": [
        "import pandas as pd\n",
        "import numpy as np\n",
        "import torch\n",
        "import torch.nn as nn\n",
        "import torch.optim as optim\n",
        "import torchvision.transforms as transforms\n",
        "import torchvision.models as models\n",
        "from torch.utils.data import Dataset, DataLoader\n",
        "from PIL import Image\n",
        "from google.colab import drive\n",
        "import os\n",
        "from tqdm import tqdm\n",
        "from sklearn.model_selection import train_test_split"
      ],
      "metadata": {
        "id": "cfe-OwtqjFhC"
      },
      "execution_count": null,
      "outputs": []
    },
    {
      "cell_type": "code",
      "source": [
        "drive.mount('/content/drive')"
      ],
      "metadata": {
        "colab": {
          "base_uri": "https://localhost:8080/"
        },
        "id": "qNHSOV4ijOnw",
        "outputId": "8292cd36-9847-4f4d-fa5b-27b013c259ef"
      },
      "execution_count": null,
      "outputs": [
        {
          "output_type": "stream",
          "name": "stdout",
          "text": [
            "Drive already mounted at /content/drive; to attempt to forcibly remount, call drive.mount(\"/content/drive\", force_remount=True).\n"
          ]
        }
      ]
    },
    {
      "cell_type": "code",
      "source": [
        "TRAIN_CSV_PATH = \"/content/drive/MyDrive/open (4)/train.csv\"\n",
        "TEST_CSV_PATH = \"/content/drive/MyDrive/open (4)/test.csv\"\n",
        "TRAIN_DIR = \"/content/drive/MyDrive/open (4)/train\"\n",
        "TEST_DIR = \"/content/drive/MyDrive/open (4)/test\"\n",
        "SUBMISSION_PATH = \"submission.csv\""
      ],
      "metadata": {
        "id": "11mtAuRHj_RI"
      },
      "execution_count": null,
      "outputs": []
    },
    {
      "cell_type": "code",
      "source": [
        "train_df = pd.read_csv(TRAIN_CSV_PATH)\n",
        "test_df = pd.read_csv(TEST_CSV_PATH)\n",
        "\n",
        "train_df[\"path\"] = train_df[\"path\"].apply(lambda x: os.path.join(TRAIN_DIR, x.replace(\"./train/\", \"\")))\n",
        "test_df[\"path\"] = test_df[\"path\"].apply(lambda x: os.path.join(TEST_DIR, x.replace(\"./test/\", \"\")))\n",
        "\n",
        "\n",
        "print(train_df.head())\n",
        "print(test_df.head())\n",
        "\n",
        "print(f\"Train DataFrame Shpae: {train_df.shape}\")\n",
        "print(f\"Test DataFrame Shpae: {test_df.shape}\")\n",
        "print(train_df.head())"
      ],
      "metadata": {
        "colab": {
          "base_uri": "https://localhost:8080/"
        },
        "id": "liPfcZNakCkM",
        "outputId": "6640d7fe-3427-4153-e948-e60359c910f6"
      },
      "execution_count": null,
      "outputs": [
        {
          "output_type": "stream",
          "name": "stdout",
          "text": [
            "           ID                                               path  AL645608.7  \\\n",
            "0  TRAIN_0000  /content/drive/MyDrive/open (4)/train/TRAIN_00...    0.000506   \n",
            "1  TRAIN_0001  /content/drive/MyDrive/open (4)/train/TRAIN_00...    0.000506   \n",
            "2  TRAIN_0002  /content/drive/MyDrive/open (4)/train/TRAIN_00...   -0.000415   \n",
            "3  TRAIN_0003  /content/drive/MyDrive/open (4)/train/TRAIN_00...   -0.000855   \n",
            "4  TRAIN_0004  /content/drive/MyDrive/open (4)/train/TRAIN_00...    0.000506   \n",
            "\n",
            "       HES4  TNFRSF18   TNFRSF4      SDF4     ACAP3    INTS11     MXRA8  ...  \\\n",
            "0  0.010635 -0.000213 -0.000846  1.512467  0.021131  0.024409  0.004109  ...   \n",
            "1  0.010635 -0.000213 -0.000846  1.508787  0.021131  0.024409  0.004109  ...   \n",
            "2  0.005658 -0.000413  0.003148  0.109204  0.013978  0.049823  0.005327  ...   \n",
            "3  0.004366  0.000684  0.000865  0.503090  0.295115  0.303922 -0.004290  ...   \n",
            "4  0.010635 -0.000213 -0.000846  0.905195  0.021131  1.597454  0.004109  ...   \n",
            "\n",
            "    MT-ATP8   MT-ATP6    MT-CO3    MT-ND3   MT-ND4L    MT-ND4    MT-ND5  \\\n",
            "0 -0.168265  2.858198  3.154686  2.283563  0.417627  2.639062  0.809258   \n",
            "1 -0.168265  2.392524  3.103424  2.462341  0.552690  3.089195  0.578029   \n",
            "2  0.189374  2.730253  3.212037  0.377279  0.340573  3.359260  1.935161   \n",
            "3 -0.158511  2.753111  2.892158  2.218189  0.677302  2.601587  1.150156   \n",
            "4  1.097993  3.760496  3.801140  3.460122  1.641039  3.735806  1.666373   \n",
            "\n",
            "     MT-CYB  BX004987.1  AL592183.1  \n",
            "0  2.053162   -0.000464   -0.000459  \n",
            "1  2.488428   -0.000464   -0.000459  \n",
            "2  2.502990    0.000598    0.002011  \n",
            "3  2.198914    0.000307    0.001789  \n",
            "4  3.408605    0.820977   -0.000459  \n",
            "\n",
            "[5 rows x 3469 columns]\n",
            "          ID                                               path\n",
            "0  TEST_0000  /content/drive/MyDrive/open (4)/test/TEST_0000...\n",
            "1  TEST_0001  /content/drive/MyDrive/open (4)/test/TEST_0001...\n",
            "2  TEST_0002  /content/drive/MyDrive/open (4)/test/TEST_0002...\n",
            "3  TEST_0003  /content/drive/MyDrive/open (4)/test/TEST_0003...\n",
            "4  TEST_0004  /content/drive/MyDrive/open (4)/test/TEST_0004...\n",
            "Train DataFrame Shpae: (6992, 3469)\n",
            "Test DataFrame Shpae: (2277, 2)\n",
            "           ID                                               path  AL645608.7  \\\n",
            "0  TRAIN_0000  /content/drive/MyDrive/open (4)/train/TRAIN_00...    0.000506   \n",
            "1  TRAIN_0001  /content/drive/MyDrive/open (4)/train/TRAIN_00...    0.000506   \n",
            "2  TRAIN_0002  /content/drive/MyDrive/open (4)/train/TRAIN_00...   -0.000415   \n",
            "3  TRAIN_0003  /content/drive/MyDrive/open (4)/train/TRAIN_00...   -0.000855   \n",
            "4  TRAIN_0004  /content/drive/MyDrive/open (4)/train/TRAIN_00...    0.000506   \n",
            "\n",
            "       HES4  TNFRSF18   TNFRSF4      SDF4     ACAP3    INTS11     MXRA8  ...  \\\n",
            "0  0.010635 -0.000213 -0.000846  1.512467  0.021131  0.024409  0.004109  ...   \n",
            "1  0.010635 -0.000213 -0.000846  1.508787  0.021131  0.024409  0.004109  ...   \n",
            "2  0.005658 -0.000413  0.003148  0.109204  0.013978  0.049823  0.005327  ...   \n",
            "3  0.004366  0.000684  0.000865  0.503090  0.295115  0.303922 -0.004290  ...   \n",
            "4  0.010635 -0.000213 -0.000846  0.905195  0.021131  1.597454  0.004109  ...   \n",
            "\n",
            "    MT-ATP8   MT-ATP6    MT-CO3    MT-ND3   MT-ND4L    MT-ND4    MT-ND5  \\\n",
            "0 -0.168265  2.858198  3.154686  2.283563  0.417627  2.639062  0.809258   \n",
            "1 -0.168265  2.392524  3.103424  2.462341  0.552690  3.089195  0.578029   \n",
            "2  0.189374  2.730253  3.212037  0.377279  0.340573  3.359260  1.935161   \n",
            "3 -0.158511  2.753111  2.892158  2.218189  0.677302  2.601587  1.150156   \n",
            "4  1.097993  3.760496  3.801140  3.460122  1.641039  3.735806  1.666373   \n",
            "\n",
            "     MT-CYB  BX004987.1  AL592183.1  \n",
            "0  2.053162   -0.000464   -0.000459  \n",
            "1  2.488428   -0.000464   -0.000459  \n",
            "2  2.502990    0.000598    0.002011  \n",
            "3  2.198914    0.000307    0.001789  \n",
            "4  3.408605    0.820977   -0.000459  \n",
            "\n",
            "[5 rows x 3469 columns]\n"
          ]
        }
      ]
    },
    {
      "cell_type": "code",
      "source": [
        "transform = transforms.Compose([\n",
        "    transforms.Resize((224, 224)),\n",
        "    transforms.ToTensor(),\n",
        "    transforms.Normalize(mean=[0.485, 0.456, 0.406], std=[0.229, 0.224, 0.225])\n",
        "])"
      ],
      "metadata": {
        "id": "OOmgs3RYlt78"
      },
      "execution_count": null,
      "outputs": []
    },
    {
      "cell_type": "code",
      "source": [
        "def safe_load_image(image_path):\n",
        "    try:\n",
        "        return Image.open(image_path).convert(\"RGB\")\n",
        "    except Exception as e:\n",
        "        print(f\"Error loading image {image_path}: {e}\")\n",
        "        return Image.new(\"RGB\", (224, 224))"
      ],
      "metadata": {
        "id": "HFjam2BllwKg"
      },
      "execution_count": null,
      "outputs": []
    },
    {
      "cell_type": "code",
      "source": [
        "class GeneExpressionDataset(Dataset):\n",
        "    def __init__(self, df, image_dir, transform=None, is_train=True):\n",
        "        self.df = df\n",
        "        self.image_dir = image_dir\n",
        "        self.transform = transform\n",
        "        self.is_train = is_train\n",
        "        self.labels = df.iloc[:, 2:].values.astype(np.float32) if is_train else None\n",
        "\n",
        "    def __len__(self):\n",
        "        return len(self.df)\n",
        "\n",
        "    def __getitem__(self, idx):\n",
        "        img_path = os.path.join(self.image_dir, self.df.iloc[idx, 1])\n",
        "        image = safe_load_image(img_path)\n",
        "        if self.transform:\n",
        "            image = self.transform(image)\n",
        "        if self.is_train:\n",
        "            label = torch.tensor(self.labels[idx])\n",
        "            return image, label\n",
        "        return image"
      ],
      "metadata": {
        "id": "kcG6pH77jFe3"
      },
      "execution_count": null,
      "outputs": []
    },
    {
      "cell_type": "code",
      "source": [
        "train_dataset = GeneExpressionDataset(train_df, TRAIN_DIR, transform, is_train=True)\n",
        "test_dataset = GeneExpressionDataset(test_df, TEST_DIR, transform, is_train=False)\n",
        "\n",
        "train_loader = DataLoader(train_dataset, batch_size=16, shuffle=True, num_workers=2)\n",
        "test_loader = DataLoader(test_dataset, batch_size=16, shuffle=False, num_workers=2)"
      ],
      "metadata": {
        "id": "6odPwwWIjFZw"
      },
      "execution_count": null,
      "outputs": []
    },
    {
      "cell_type": "code",
      "source": [
        "class GeneExpressionModel(nn.Module):\n",
        "    def __init__(self):\n",
        "        super(GeneExpressionModel, self).__init__()\n",
        "        self.model = models.efficientnet_b0(pretrained=True)\n",
        "        self.model.classifier[1] = nn.Linear(1280, 3467)\n",
        "\n",
        "    def forward(self, x):\n",
        "        return self.model(x)"
      ],
      "metadata": {
        "id": "b8801MS_jFXZ"
      },
      "execution_count": null,
      "outputs": []
    },
    {
      "cell_type": "code",
      "source": [
        "device = torch.device(\"cuda\" if torch.cuda.is_available() else \"cpu\")\n",
        "model = GeneExpressionModel().to(device)\n",
        "criterion = nn.MSELoss()\n",
        "optimizer = optim.Adam(model.parameters(), lr=1e-4)"
      ],
      "metadata": {
        "colab": {
          "base_uri": "https://localhost:8080/"
        },
        "id": "v11DtLhGjFVC",
        "outputId": "3a9e4dac-af91-4172-c395-f0fab7610d46"
      },
      "execution_count": null,
      "outputs": [
        {
          "output_type": "stream",
          "name": "stderr",
          "text": [
            "/usr/local/lib/python3.11/dist-packages/torchvision/models/_utils.py:208: UserWarning: The parameter 'pretrained' is deprecated since 0.13 and may be removed in the future, please use 'weights' instead.\n",
            "  warnings.warn(\n",
            "/usr/local/lib/python3.11/dist-packages/torchvision/models/_utils.py:223: UserWarning: Arguments other than a weight enum or `None` for 'weights' are deprecated since 0.13 and may be removed in the future. The current behavior is equivalent to passing `weights=EfficientNet_B0_Weights.IMAGENET1K_V1`. You can also use `weights=EfficientNet_B0_Weights.DEFAULT` to get the most up-to-date weights.\n",
            "  warnings.warn(msg)\n"
          ]
        }
      ]
    },
    {
      "cell_type": "code",
      "source": [
        "def train_model(model, train_loader, criterion, optimizer, epochs=10, checkpoint_interval=5, checkpoint_path=\"checkpoint.pth\"):\n",
        "    model.train()\n",
        "    for epoch in range(epochs):\n",
        "        total_loss = 0\n",
        "        progress_bar = tqdm(train_loader, desc=f\"Epoch {epoch+1}/{epochs}\", leave=False)\n",
        "\n",
        "        for images, labels in progress_bar:\n",
        "            images, labels = images.to(device), labels.to(device)\n",
        "            optimizer.zero_grad()\n",
        "            outputs = model(images)\n",
        "            loss = criterion(outputs, labels)\n",
        "            loss.backward()\n",
        "            optimizer.step()\n",
        "            total_loss += loss.item()\n",
        "            progress_bar.set_postfix(loss=total_loss / len(train_loader))\n",
        "\n",
        "        print(f\"Epoch {epoch+1}/{epochs}, Loss: {total_loss/len(train_loader):.4f}\")\n",
        "\n",
        "\n",
        "        if (epoch + 1) % checkpoint_interval == 0:\n",
        "            torch.save(model.state_dict(), f\"{checkpoint_path}_epoch{epoch+1}.pth\")\n",
        "            print(f\"Checkpoint saved at epoch {epoch+1}\")"
      ],
      "metadata": {
        "id": "Ju7jZFBDjFSl"
      },
      "execution_count": null,
      "outputs": []
    },
    {
      "cell_type": "code",
      "source": [
        "train_model(model, train_loader, criterion, optimizer, epochs=30, checkpoint_interval=5, checkpoint_path=\"checkpoint\")"
      ],
      "metadata": {
        "colab": {
          "base_uri": "https://localhost:8080/"
        },
        "id": "rKPUixYqfBHp",
        "outputId": "d2811919-7a36-43a7-88ad-38c436e80a80"
      },
      "execution_count": null,
      "outputs": [
        {
          "output_type": "stream",
          "name": "stderr",
          "text": []
        },
        {
          "output_type": "stream",
          "name": "stdout",
          "text": [
            "Epoch 1/30, Loss: 0.0668\n"
          ]
        },
        {
          "output_type": "stream",
          "name": "stderr",
          "text": []
        },
        {
          "output_type": "stream",
          "name": "stdout",
          "text": [
            "Epoch 2/30, Loss: 0.0493\n"
          ]
        },
        {
          "output_type": "stream",
          "name": "stderr",
          "text": []
        },
        {
          "output_type": "stream",
          "name": "stdout",
          "text": [
            "Epoch 3/30, Loss: 0.0482\n"
          ]
        },
        {
          "output_type": "stream",
          "name": "stderr",
          "text": []
        },
        {
          "output_type": "stream",
          "name": "stdout",
          "text": [
            "Epoch 4/30, Loss: 0.0476\n"
          ]
        },
        {
          "output_type": "stream",
          "name": "stderr",
          "text": []
        },
        {
          "output_type": "stream",
          "name": "stdout",
          "text": [
            "Epoch 5/30, Loss: 0.0471\n",
            "Checkpoint saved at epoch 5\n"
          ]
        },
        {
          "output_type": "stream",
          "name": "stderr",
          "text": []
        },
        {
          "output_type": "stream",
          "name": "stdout",
          "text": [
            "Epoch 6/30, Loss: 0.0467\n"
          ]
        },
        {
          "output_type": "stream",
          "name": "stderr",
          "text": []
        },
        {
          "output_type": "stream",
          "name": "stdout",
          "text": [
            "Epoch 7/30, Loss: 0.0464\n"
          ]
        },
        {
          "output_type": "stream",
          "name": "stderr",
          "text": []
        },
        {
          "output_type": "stream",
          "name": "stdout",
          "text": [
            "Epoch 8/30, Loss: 0.0462\n"
          ]
        },
        {
          "output_type": "stream",
          "name": "stderr",
          "text": []
        },
        {
          "output_type": "stream",
          "name": "stdout",
          "text": [
            "Epoch 9/30, Loss: 0.0459\n"
          ]
        },
        {
          "output_type": "stream",
          "name": "stderr",
          "text": []
        },
        {
          "output_type": "stream",
          "name": "stdout",
          "text": [
            "Epoch 10/30, Loss: 0.0457\n",
            "Checkpoint saved at epoch 10\n"
          ]
        },
        {
          "output_type": "stream",
          "name": "stderr",
          "text": []
        },
        {
          "output_type": "stream",
          "name": "stdout",
          "text": [
            "Epoch 11/30, Loss: 0.0455\n"
          ]
        },
        {
          "output_type": "stream",
          "name": "stderr",
          "text": []
        },
        {
          "output_type": "stream",
          "name": "stdout",
          "text": [
            "Epoch 12/30, Loss: 0.0453\n"
          ]
        },
        {
          "output_type": "stream",
          "name": "stderr",
          "text": []
        },
        {
          "output_type": "stream",
          "name": "stdout",
          "text": [
            "Epoch 13/30, Loss: 0.0452\n"
          ]
        },
        {
          "output_type": "stream",
          "name": "stderr",
          "text": []
        },
        {
          "output_type": "stream",
          "name": "stdout",
          "text": [
            "Epoch 14/30, Loss: 0.0451\n"
          ]
        },
        {
          "output_type": "stream",
          "name": "stderr",
          "text": []
        },
        {
          "output_type": "stream",
          "name": "stdout",
          "text": [
            "Epoch 15/30, Loss: 0.0450\n",
            "Checkpoint saved at epoch 15\n"
          ]
        },
        {
          "output_type": "stream",
          "name": "stderr",
          "text": []
        },
        {
          "output_type": "stream",
          "name": "stdout",
          "text": [
            "Epoch 16/30, Loss: 0.0449\n"
          ]
        },
        {
          "output_type": "stream",
          "name": "stderr",
          "text": []
        },
        {
          "output_type": "stream",
          "name": "stdout",
          "text": [
            "Epoch 17/30, Loss: 0.0448\n"
          ]
        },
        {
          "output_type": "stream",
          "name": "stderr",
          "text": []
        },
        {
          "output_type": "stream",
          "name": "stdout",
          "text": [
            "Epoch 18/30, Loss: 0.0447\n"
          ]
        },
        {
          "output_type": "stream",
          "name": "stderr",
          "text": []
        },
        {
          "output_type": "stream",
          "name": "stdout",
          "text": [
            "Epoch 19/30, Loss: 0.0446\n"
          ]
        },
        {
          "output_type": "stream",
          "name": "stderr",
          "text": []
        },
        {
          "output_type": "stream",
          "name": "stdout",
          "text": [
            "Epoch 20/30, Loss: 0.0445\n",
            "Checkpoint saved at epoch 20\n"
          ]
        },
        {
          "output_type": "stream",
          "name": "stderr",
          "text": []
        },
        {
          "output_type": "stream",
          "name": "stdout",
          "text": [
            "Epoch 21/30, Loss: 0.0444\n"
          ]
        },
        {
          "output_type": "stream",
          "name": "stderr",
          "text": []
        },
        {
          "output_type": "stream",
          "name": "stdout",
          "text": [
            "Epoch 22/30, Loss: 0.0443\n"
          ]
        },
        {
          "output_type": "stream",
          "name": "stderr",
          "text": []
        },
        {
          "output_type": "stream",
          "name": "stdout",
          "text": [
            "Epoch 23/30, Loss: 0.0442\n"
          ]
        },
        {
          "output_type": "stream",
          "name": "stderr",
          "text": []
        },
        {
          "output_type": "stream",
          "name": "stdout",
          "text": [
            "Epoch 24/30, Loss: 0.0441\n"
          ]
        },
        {
          "output_type": "stream",
          "name": "stderr",
          "text": []
        },
        {
          "output_type": "stream",
          "name": "stdout",
          "text": [
            "Epoch 25/30, Loss: 0.0440\n",
            "Checkpoint saved at epoch 25\n"
          ]
        },
        {
          "output_type": "stream",
          "name": "stderr",
          "text": []
        },
        {
          "output_type": "stream",
          "name": "stdout",
          "text": [
            "Epoch 26/30, Loss: 0.0438\n"
          ]
        },
        {
          "output_type": "stream",
          "name": "stderr",
          "text": []
        },
        {
          "output_type": "stream",
          "name": "stdout",
          "text": [
            "Epoch 27/30, Loss: 0.0436\n"
          ]
        },
        {
          "output_type": "stream",
          "name": "stderr",
          "text": []
        },
        {
          "output_type": "stream",
          "name": "stdout",
          "text": [
            "Epoch 28/30, Loss: 0.0435\n"
          ]
        },
        {
          "output_type": "stream",
          "name": "stderr",
          "text": []
        },
        {
          "output_type": "stream",
          "name": "stdout",
          "text": [
            "Epoch 29/30, Loss: 0.0434\n"
          ]
        },
        {
          "output_type": "stream",
          "name": "stderr",
          "text": [
            "                                                                           "
          ]
        },
        {
          "output_type": "stream",
          "name": "stdout",
          "text": [
            "Epoch 30/30, Loss: 0.0433\n",
            "Checkpoint saved at epoch 30\n"
          ]
        },
        {
          "output_type": "stream",
          "name": "stderr",
          "text": [
            "\r"
          ]
        }
      ]
    },
    {
      "cell_type": "code",
      "source": [
        "model.eval()\n",
        "predictions = []\n",
        "with torch.no_grad():\n",
        "    for images in tqdm(test_loader, desc=\"Generating Predictions\"):\n",
        "        images = images.to(device)\n",
        "        outputs = model(images)\n",
        "        predictions.append(outputs.cpu().numpy())\n",
        "\n",
        "def predict_and_submit(model, test_loader, submission_path):\n",
        "    model.eval()\n",
        "    predictions = []\n",
        "    with torch.no_grad():\n",
        "        for images in tqdm(test_loader, desc=\"Predicting for Submission\"):\n",
        "            images = images.to(device)\n",
        "            outputs = model(images).cpu().numpy()\n",
        "            predictions.append(outputs)\n",
        "    predictions = np.vstack(predictions)\n",
        "    submission = pd.DataFrame(predictions, columns=train_df.columns[2:])\n",
        "    submission.insert(0, \"ID\", test_df[\"ID\"])\n",
        "    submission.to_csv(submission_path, index=False)\n",
        "    print(f\"Submission file saved: {submission_path}\")\n",
        "\n",
        "predict_and_submit(model, test_loader, \"submission.csv\")"
      ],
      "metadata": {
        "colab": {
          "base_uri": "https://localhost:8080/"
        },
        "id": "vj0CYZGKjFQB",
        "outputId": "b7986931-ce24-4e5f-9675-34353b7ceaca"
      },
      "execution_count": null,
      "outputs": [
        {
          "output_type": "stream",
          "name": "stderr",
          "text": [
            "Generating Predictions: 100%|██████████| 143/143 [00:38<00:00,  3.76it/s]\n",
            "Predicting for Submission: 100%|██████████| 143/143 [00:37<00:00,  3.79it/s]\n"
          ]
        },
        {
          "output_type": "stream",
          "name": "stdout",
          "text": [
            "Submission file saved: submission.csv\n"
          ]
        }
      ]
    },
    {
      "cell_type": "code",
      "source": [],
      "metadata": {
        "id": "skWPvgMqjFJD"
      },
      "execution_count": null,
      "outputs": []
    },
    {
      "cell_type": "code",
      "source": [],
      "metadata": {
        "id": "E7rn7I2LjFGo"
      },
      "execution_count": null,
      "outputs": []
    },
    {
      "cell_type": "code",
      "source": [],
      "metadata": {
        "id": "WYi9OD7PjFEE"
      },
      "execution_count": null,
      "outputs": []
    },
    {
      "cell_type": "code",
      "source": [],
      "metadata": {
        "id": "UDQ5Vy7djFBx"
      },
      "execution_count": null,
      "outputs": []
    },
    {
      "cell_type": "code",
      "source": [],
      "metadata": {
        "id": "ytFVTAAtij1l"
      },
      "execution_count": null,
      "outputs": []
    },
    {
      "cell_type": "code",
      "source": [],
      "metadata": {
        "id": "OCav1qcnijzI"
      },
      "execution_count": null,
      "outputs": []
    },
    {
      "cell_type": "code",
      "source": [],
      "metadata": {
        "id": "tgzvuKDQijww"
      },
      "execution_count": null,
      "outputs": []
    },
    {
      "cell_type": "code",
      "source": [],
      "metadata": {
        "id": "Px-6e1T5ijuX"
      },
      "execution_count": null,
      "outputs": []
    }
  ]
}